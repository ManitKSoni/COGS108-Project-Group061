{
 "cells": [
  {
   "cell_type": "markdown",
   "metadata": {},
   "source": [
    "# COGS 108 - Final Project Proposal"
   ]
  },
  {
   "cell_type": "markdown",
   "metadata": {},
   "source": [
    "# Names\n",
    "\n",
    "- Manit Soni\n",
    "- Young Jun Kim\n",
    "- Esau Estrada\n",
    "- Cooper Beaman\n",
    "- Arren De Manuel"
   ]
  },
  {
   "cell_type": "markdown",
   "metadata": {},
   "source": [
    "# Group Members IDs\n",
    "\n",
    "- A15576567\n",
    "- A16062404\n",
    "- A16056905\n",
    "- A13589935\n",
    "- A15697684"
   ]
  },
  {
   "cell_type": "markdown",
   "metadata": {},
   "source": [
    "# Research Question"
   ]
  },
  {
   "cell_type": "markdown",
   "metadata": {},
   "source": [
    "What do one to two word phrases tell us about how different news outlets covered Donald Trump and Hillary Clinton in the 2016 general elections? Did news outlets predominately describe each candidate positively or negatively? Were certain phrases more commonly used by news outlets when describing candidates?"
   ]
  },
  {
   "cell_type": "markdown",
   "metadata": {},
   "source": [
    "## Background and Prior Work"
   ]
  },
  {
   "cell_type": "markdown",
   "metadata": {},
   "source": [
    "There has been much discussion over the words politicians use to convey their ideas. Their words are meant to convince the public and thus are catered for that effect. Many analyses have been done on the keywords politicians use and their connotations to the subjects they discuss. Our objective is to apply this same methodology to the words news organizations themselves use to describe political figures, focusing on the presidential candidates of the 2016 election.\n",
    "\n",
    "We are interested in this questions as we often hear about fake news and media narratives and want to confirm the validity or falsity of this statement. The importance of this topic is in understanding the information we consume, especially as it is often taken for granted to be accurate.\n",
    "\n",
    "There has already been research done to look at the headlines used during President Trump's term in office. Towards Data Science concluded that 'trump' was the most used word by quite a landslide. CNN and MSNBC used many keyword associated with trump's scandals, whereas FOX used more generic words such as 'man' and 'woman'. The New Yorker analyzed the language used by the political condidates during the 2016 election. For example, the Democratic candidates tended to use more concrete language and the Republican candidates tended to use more descriptive language.\n",
    "\n",
    "\n",
    "References (include links):\n",
    "- [1] https://blog.gdeltproject.org/announcing-the-television-news-ngram-datasets-tv-ngram/\n",
    "- [2] https://www.newyorker.com/magazine/2016/04/11/examining-the-vocabulary-of-the-presidential-race\n",
    "- [3] https://towardsdatascience.com/how-does-news-coverage-differ-between-media-outlets-20aa7be1c96a\n",
    "- [4] https://www.ncbi.nlm.nih.gov/pmc/articles/PMC6549470/\n",
    "- [5] https://www.newyorker.com/magazine/2018/10/01/how-russia-helped-to-swing-the-election-for-trump"
   ]
  },
  {
   "cell_type": "markdown",
   "metadata": {},
   "source": [
    "# Hypothesis\n"
   ]
  },
  {
   "cell_type": "markdown",
   "metadata": {},
   "source": [
    "### Explanation\n",
    "Not all news outlets use words of equally negative sentiment in their articles, however all news outlet articles and headlines analyzed by Michael Tauberg at Towards Data Science exhibited a negative sentiment bias on average [3].  Additionally, during presidential elections in general, candidates typically search for negative events from their opponent's past to reduce their chances of winning. Furthermore, most humans tend to prefer gossip compared to other forms of conversation [4]. Hence, news outlets are incentivized to report negative stories, true or not from candidate's campaigns instead of more positive stories to increase viewership and revenue more reliably. Thus, we predict both Hillary Clinton and Donald Trump should have been portrayed negatively by most news outlets. However, given the abnormally high frequency of \"Trump\" appearing in news articles combined with his infamous personality [3,5], we predict news outlet's negative sentiment descriptions of Trump should predominate relative to those of Hillary. \n",
    "\n",
    "### Hypothesis\n",
    "__We predict all news networks we analyze will cover both 2016 presidential candidates with predominantly negative sentiment, however we expect to see greater negative sentiment descriptions of Donald Trump compared to Hillary Clinton.__"
   ]
  },
  {
   "cell_type": "markdown",
   "metadata": {},
   "source": [
    "# Data"
   ]
  },
  {
   "cell_type": "markdown",
   "metadata": {},
   "source": [
    "Our ideal data set would contain variables for: words used, the candidate the words are referencing, the valance (positive or negative) of the descriptive words used, the news organization describing the candidate, and the date words were used to describe the candidate. The variables would all be stored as columns in the same table with each observation being a specific instance of a one or two word description of one of the two 2016 presidential general election candidates. Ideally, our dataset would have as many observations as possible or no less than 500 description instances. The dataset would have collected descriptive instances by scraping news articles and transcripts for one or two word descriptions of or references to Hillary Clinton or Donald Trump in the 2016 presidential general election."
   ]
  },
  {
   "cell_type": "markdown",
   "metadata": {},
   "source": [
    "# Ethics & Privacy"
   ]
  },
  {
   "cell_type": "markdown",
   "metadata": {},
   "source": [
    "There should not be any privacy concerns with the data used as it will be taken from news articles and coverage that is already available to the public. There may be potential biases in the dataset if it doesn't use diverse sources or overly relies on select sources. This is because of the potential political biases of news outlets. We control for this by having variables for the specific news organization. Thus, we will have multiple perspectives on the coverage instead of a combined media perspective. There may also be an unintended use of the data to promote narratives of why the coverage is directed the way it is. Our research is specifically meant to look for correlations of positive/negative coverage of candidates and does not prove any bias towards/against candidates.\n",
    " \n",
    "One thing we have to worry about in terms of ethics is that news outlets may have certain ideas they would want to promote. For example, a news source might have policies on what their hosts can talk about and how they should present the information to the public. If we do not account for this fact, it can raise ethical issues because it can skew our data with the biases of particular news outlet."
   ]
  },
  {
   "cell_type": "markdown",
   "metadata": {},
   "source": [
    "# Team Expectations "
   ]
  },
  {
   "cell_type": "markdown",
   "metadata": {},
   "source": [
    "* Everyone should put about the same number of hours into the project.\n",
    "* We will use Messenger to communicate with each other. Disagreements will be resolved through team votes.\n",
    "* A 24-hour notice should be given before missing group meetings."
   ]
  },
  {
   "cell_type": "markdown",
   "metadata": {},
   "source": [
    "# Project Timeline Proposal"
   ]
  },
  {
   "cell_type": "markdown",
   "metadata": {},
   "source": [
    "| Meeting Date  | Meeting Time| Completed Before Meeting  | Discuss at Meeting |\n",
    "|---|---|---|---|\n",
    "| 1/23  |  1 PM | Read & Think about COGS 108 expectations; brainstorm topics/questions  | Determine best form of communication; Discuss final project topic; discuss hypothesis; begin background research | \n",
    "| 1/30  |  1 PM |  Do background research on topic | Finalize topic idea | Discuss ideal dataset(s) and ethics; draft project proposal | \n",
    "| 1/31  | 5 PM  | Edit, finalize, and submit proposal; Search for datasets  | Discuss Wrangling and possible analytical approaches;   |\n",
    "| 2/13  | 6 PM  | Share datasets and wrangle the data (Esau, Young jun); EDA (Cooper, Manit, Arren) | Review/Edit wrangling/EDA; Discuss Analysis Plan   |\n",
    "| 2/20  | 1 PM  | Finalize wrangling/EDA; Begin Analysis | Discuss/edit Analysis; Complete project check-in |\n",
    "| 3/12  | 1 PM  | Complete analysis; Draft results/conclusion/discussion | Discuss/edit full project |\n",
    "| 3/19  | Before 11:59 PM  | NA | Turn in Final Project & Group Project Surveys |"
   ]
  },
  {
   "cell_type": "code",
   "execution_count": null,
   "metadata": {},
   "outputs": [],
   "source": []
  }
 ],
 "metadata": {
  "kernelspec": {
   "display_name": "Python 3",
   "language": "python",
   "name": "python3"
  },
  "language_info": {
   "codemirror_mode": {
    "name": "ipython",
    "version": 3
   },
   "file_extension": ".py",
   "mimetype": "text/x-python",
   "name": "python",
   "nbconvert_exporter": "python",
   "pygments_lexer": "ipython3",
   "version": "3.7.3"
  }
 },
 "nbformat": 4,
 "nbformat_minor": 2
}
