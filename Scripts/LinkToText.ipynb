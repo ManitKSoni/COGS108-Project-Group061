{
 "cells": [
  {
   "cell_type": "code",
   "execution_count": 3,
   "metadata": {},
   "outputs": [
    {
     "name": "stderr",
     "output_type": "stream",
     "text": [
      "[nltk_data] Downloading package vader_lexicon to\n",
      "[nltk_data]     /home/msoni/nltk_data...\n",
      "[nltk_data]   Package vader_lexicon is already up-to-date!\n"
     ]
    }
   ],
   "source": [
    "import requests # text parsing\n",
    "from bs4 import BeautifulSoup # text parsing\n",
    "#from urllib.request import urlopen # reading files\n",
    "import pandas as pd\n",
    "import re\n",
    "import nltk\n",
    "\n",
    "nltk.download('vader_lexicon')\n",
    "from nltk.sentiment.vader import SentimentIntensityAnalyzer\n",
    "\n",
    "# catch HTTPError in url list\n",
    "#from urllib.error import HTTPError"
   ]
  },
  {
   "cell_type": "code",
   "execution_count": 4,
   "metadata": {},
   "outputs": [],
   "source": [
    "def parse(news_source, file, df):\n",
    "    with open(file, \"r\") as f:\n",
    "        for url in f:\n",
    "            url = url.strip()\n",
    "\n",
    "            res = requests.get(url)\n",
    "            html_page = res.content\n",
    "            soup = BeautifulSoup(html_page, 'html.parser')\n",
    "\n",
    "            if news_source == \"CNN\":\n",
    "                text = soup.find_all(class_ = ['zn-body__paragraph', 'el__storyhighlights__item', 'pg-headline'])\n",
    "            elif news_source == \"Breitbart\":\n",
    "                text = soup.find_all(['h1', 'p'])\n",
    "            elif news_source == \"NYT\":\n",
    "                text = soup.find_all(class_ = ['css-1vkm6nb ehdk2mb0', 'css-16f3y1r e13ogyst0', 'css-exrw3m evys1bk0'])\n",
    "\n",
    "            all_text = ''\n",
    "            for item in text:\n",
    "                all_text += \" \" + item.get_text()\n",
    "            temp_df = collect_sentiment(all_text, news_source)\n",
    "            df = pd.concat([df, temp_df])\n",
    "    \n",
    "    return df"
   ]
  },
  {
   "cell_type": "code",
   "execution_count": 5,
   "metadata": {},
   "outputs": [],
   "source": [
    "def collect_sentiment(all_text, news_source):\n",
    "    analyser = SentimentIntensityAnalyzer()\n",
    "    sentiment = analyser.polarity_scores(all_text)\n",
    "\n",
    "    # variables\n",
    "    hillary = [\"hillary\", \"clinton\", \"Hillary\", \"Clinton\"]\n",
    "    trump = [\"trump\", \"donald\", \"Donald\", \"Trump\"]\n",
    "    name = None\n",
    "    word = \"\" # word to check if it is a name\n",
    "    polarity_list = []\n",
    "    name_list = []\n",
    "    news_source_list = []\n",
    "    sentence = \"\"\n",
    "    \n",
    "    # runs through the text and if name is found, adds sentiment to dataframe\n",
    "    for item in all_text:\n",
    "        # at end of sentence, gets sentiment\n",
    "        if item == \".\":\n",
    "            sentiment = analyser.polarity_scores(sentence)\n",
    "            sentence = \"\"\n",
    "            continue\n",
    "\n",
    "        # checks if word is a candidate name\n",
    "        if item == \" \":\n",
    "            # removes all non-letter characters\n",
    "            word = re.sub(r\"[^\\w\\s_]+\", \"\", word).strip()\n",
    "            \n",
    "            if word in hillary:\n",
    "                word = \"Hillary\"\n",
    "                polarity_list.append(sentiment)\n",
    "                name_list.append(word)\n",
    "                news_source_list.append(news_source)\n",
    "            elif word in trump:\n",
    "                word = \"Trump\"\n",
    "                polarity_list.append(sentiment)\n",
    "                name_list.append(word)\n",
    "                news_source_list.append(news_source)\n",
    "            word = \"\"\n",
    "\n",
    "        # add a letter at a time\n",
    "        sentence += item\n",
    "        word += item\n",
    "\n",
    "    # combine lists\n",
    "    tuple_list = list(zip(name_list, polarity_list))\n",
    "    \n",
    "    # create dataframe of news source, candidate, and sentiment\n",
    "    list_dict = {\"News_Source\": news_source_list, \"Candidate\": name_list, \"Sentiment\": polarity_list}\n",
    "    df = pd.DataFrame(list_dict)\n",
    "    return df"
   ]
  },
  {
   "cell_type": "code",
   "execution_count": 6,
   "metadata": {
    "scrolled": true
   },
   "outputs": [],
   "source": [
    "# gets all the files from different news sources\n",
    "CNN_files = \"Files/2016CNNArticleURLSBackup.txt\"\n",
    "Breitbart_files = \"Files/2016BreitbartArticleURLS.txt\"\n",
    "NYT_files = \"Files/2016NYTimesArticleURLS.txt\"\n",
    "\n",
    "df = pd.DataFrame()\n",
    "\n",
    "df = parse(\"CNN\", CNN_files, df)\n",
    "df = parse(\"Breitbart\", Breitbart_files, df)\n",
    "df = parse(\"NYT\", NYT_files, df)"
   ]
  },
  {
   "cell_type": "code",
   "execution_count": 8,
   "metadata": {},
   "outputs": [],
   "source": [
    "df.to_csv(r\"Dataset.csv\", index = False)"
   ]
  },
  {
   "cell_type": "code",
   "execution_count": null,
   "metadata": {},
   "outputs": [],
   "source": []
  }
 ],
 "metadata": {
  "kernelspec": {
   "display_name": "Python 3",
   "language": "python",
   "name": "python3"
  },
  "language_info": {
   "codemirror_mode": {
    "name": "ipython",
    "version": 3
   },
   "file_extension": ".py",
   "mimetype": "text/x-python",
   "name": "python",
   "nbconvert_exporter": "python",
   "pygments_lexer": "ipython3",
   "version": "3.6.7"
  }
 },
 "nbformat": 4,
 "nbformat_minor": 2
}
