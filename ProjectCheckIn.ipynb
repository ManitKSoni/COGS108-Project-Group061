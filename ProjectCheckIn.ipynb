{
 "cells": [
  {
   "cell_type": "markdown",
   "metadata": {},
   "source": [
    "# COGS 108 Final Project Check-In"
   ]
  },
  {
   "cell_type": "markdown",
   "metadata": {},
   "source": [
    "# Names\n",
    "\n",
    "- Manit Soni\n",
    "- Young Jun Kim\n",
    "- Esau Estrada\n",
    "- Cooper Beaman\n",
    "- Arren De Manuel"
   ]
  },
  {
   "cell_type": "markdown",
   "metadata": {},
   "source": [
    "# Group Members IDs\n",
    "\n",
    "- A15576567\n",
    "- A16062404\n",
    "- A16056905\n",
    "- A13589935\n",
    "- A15697684"
   ]
  },
  {
   "cell_type": "markdown",
   "metadata": {},
   "source": [
    "# Accomplishments"
   ]
  },
  {
   "cell_type": "markdown",
   "metadata": {},
   "source": [
    "*Briefly explain what your group has accomplished up to this point on your final project.* \n",
    "\n",
    "So far, our group has found and cleaned our data set by pulling it, organizing it into a table, sorting the phrases by use frequency, combining duplicate phrases, and deleting irrelevant dates and non-descriptive phrases. We also revised our question and hypothesis to include more explanation and details."
   ]
  },
  {
   "cell_type": "markdown",
   "metadata": {},
   "source": [
    "# Going Well"
   ]
  },
  {
   "cell_type": "markdown",
   "metadata": {},
   "source": [
    "*Briefly explain what has gone well so far in completing your group project.*\n",
    "\n",
    "We understand and can perform cleaning and manipulations on datasets. We have a clear strategy for what we need to do to solve the struggles (mentioned below) that face us, which is essentially to make our own dataset."
   ]
  },
  {
   "cell_type": "markdown",
   "metadata": {},
   "source": [
    "# Struggles"
   ]
  },
  {
   "cell_type": "markdown",
   "metadata": {},
   "source": [
    "*Briefly explain what snags or issues your group has faced.*\n",
    "\n",
    "We realized that there was a lack of contextual information about the descriptive phrases in our data set (e.g. their referential properties to different candidates). Our existing data set uses hour and date to indicate the timeframe in which phrases were used, so our original plan to use time to bind descriptive phrases to candidates wouldn't have worked. Knowing a descriptive phrase was used within an hour of a given candidates name isn't a close enough time seperation to confidently determine if that phrase was used to describe said candidtate. To resolve this complication, we decided to assemble a novel data set via web scraping that would provide the actual proximity (i.e. word seperation) between descriptive phrases and candidate's names within a sentence instead to answer our research questions."
   ]
  },
  {
   "cell_type": "markdown",
   "metadata": {},
   "source": [
    "# Plan Forward"
   ]
  },
  {
   "cell_type": "markdown",
   "metadata": {},
   "source": [
    "*Explain what your plan is for successful completion of your COGS 108 project. If any issues have arisen, address your plan for addressing these issues throughout the rest of the quarter.*\n",
    "\n",
    "Moving forward, we determined that we'll need to scrape different outlet's political archives from 2015 to 2016 covering the 2016 presidential election to assemble a new data set we can use to accurately answer our research questions. After assembling and cleaning this sentence-based data set to only include sentences mentioning the candidates by name, we'll need to create an algorithm to determine which descriptors are referring to which candidate within a given sentence. This data will be sorted by news organization and date. Finally, these descriptors will be compared to positive and negative word dictionaries we'll assemble to determine their valence. With this organized table based on our web-scraped data set, we should be able to determine any inter-news-outlet differences  in the valence of their descriptive coverage of Donald Trump and Hillary Clinton during the 2016 general elections.\n"
   ]
  }
 ],
 "metadata": {
  "kernelspec": {
   "display_name": "Python 3",
   "language": "python",
   "name": "python3"
  },
  "language_info": {
   "codemirror_mode": {
    "name": "ipython",
    "version": 3
   },
   "file_extension": ".py",
   "mimetype": "text/x-python",
   "name": "python",
   "nbconvert_exporter": "python",
   "pygments_lexer": "ipython3",
   "version": "3.8.3"
  }
 },
 "nbformat": 4,
 "nbformat_minor": 2
}
